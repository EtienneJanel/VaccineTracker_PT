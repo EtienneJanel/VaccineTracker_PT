{
 "metadata": {
  "language_info": {
   "codemirror_mode": {
    "name": "ipython",
    "version": 3
   },
   "file_extension": ".py",
   "mimetype": "text/x-python",
   "name": "python",
   "nbconvert_exporter": "python",
   "pygments_lexer": "ipython3",
   "version": "3.7.3"
  },
  "orig_nbformat": 2,
  "kernelspec": {
   "name": "pythonjvsc74a57bd06e99e79685ec8acb27f851f6f5bda7d65202eba293d82845f571c47f07ea20ad",
   "display_name": "Python 3.7.3 64-bit ('venv': venv)"
  },
  "metadata": {
   "interpreter": {
    "hash": "6e99e79685ec8acb27f851f6f5bda7d65202eba293d82845f571c47f07ea20ad"
   }
  }
 },
 "nbformat": 4,
 "nbformat_minor": 2,
 "cells": [
  {
   "cell_type": "code",
   "execution_count": 1,
   "metadata": {},
   "outputs": [
    {
     "output_type": "stream",
     "name": "stderr",
     "text": [
      "c:\\Users\\Etienne\\1.PythonProjects\\10-19 Data Analysis\\2021 05 - VaccineTracker\\venv\\lib\\site-packages\\plotly\\graph_objs\\_deprecations.py:385: DeprecationWarning:\n\nplotly.graph_objs.Line is deprecated.\nPlease replace it with one of the following more specific types\n  - plotly.graph_objs.scatter.Line\n  - plotly.graph_objs.layout.shape.Line\n  - etc.\n\n\n"
     ]
    }
   ],
   "source": [
    "import pandas as pd\n",
    "from scripts.main import OwidData\n",
    "\n",
    "\n",
    "\n",
    "fig_data = OwidData()\n",
    "daily_doses = fig_data.daily_doses()\n",
    "total_doses = fig_data.total_doses()\n",
    "(\n",
    "    remaining_pop,\n",
    "    remaining_days,\n",
    "    last_ma,\n",
    "    total_pop,\n",
    "    update_date,\n",
    ") = fig_data.last_update()"
   ]
  },
  {
   "cell_type": "code",
   "execution_count": 4,
   "metadata": {},
   "outputs": [],
   "source": [
    "df_pt = fig_data.df_pt\n",
    "df = fig_data.df"
   ]
  },
  {
   "cell_type": "code",
   "execution_count": 6,
   "metadata": {},
   "outputs": [
    {
     "output_type": "execute_result",
     "data": {
      "text/plain": [
       "Index(['iso_code', 'continent', 'location', 'date', 'total_cases', 'new_cases',\n",
       "       'new_cases_smoothed', 'total_deaths', 'new_deaths',\n",
       "       'new_deaths_smoothed', 'total_cases_per_million',\n",
       "       'new_cases_per_million', 'new_cases_smoothed_per_million',\n",
       "       'total_deaths_per_million', 'new_deaths_per_million',\n",
       "       'new_deaths_smoothed_per_million', 'reproduction_rate', 'icu_patients',\n",
       "       'icu_patients_per_million', 'hosp_patients',\n",
       "       'hosp_patients_per_million', 'weekly_icu_admissions',\n",
       "       'weekly_icu_admissions_per_million', 'weekly_hosp_admissions',\n",
       "       'weekly_hosp_admissions_per_million', 'new_tests', 'total_tests',\n",
       "       'total_tests_per_thousand', 'new_tests_per_thousand',\n",
       "       'new_tests_smoothed', 'new_tests_smoothed_per_thousand',\n",
       "       'positive_rate', 'tests_per_case', 'tests_units', 'total_vaccinations',\n",
       "       'people_vaccinated', 'people_fully_vaccinated', 'new_vaccinations',\n",
       "       'new_vaccinations_smoothed', 'total_vaccinations_per_hundred',\n",
       "       'people_vaccinated_per_hundred', 'people_fully_vaccinated_per_hundred',\n",
       "       'new_vaccinations_smoothed_per_million', 'stringency_index',\n",
       "       'population', 'population_density', 'median_age', 'aged_65_older',\n",
       "       'aged_70_older', 'gdp_per_capita', 'extreme_poverty',\n",
       "       'cardiovasc_death_rate', 'diabetes_prevalence', 'female_smokers',\n",
       "       'male_smokers', 'handwashing_facilities', 'hospital_beds_per_thousand',\n",
       "       'life_expectancy', 'human_development_index'],\n",
       "      dtype='object')"
      ]
     },
     "metadata": {},
     "execution_count": 6
    }
   ],
   "source": [
    "df.columns"
   ]
  },
  {
   "cell_type": "code",
   "execution_count": 10,
   "metadata": {},
   "outputs": [],
   "source": [
    "d = df[df.location==\"Portugal\"][['total_vaccinations',\n",
    "       'people_vaccinated', 'people_fully_vaccinated', 'new_vaccinations',\n",
    "       'new_vaccinations_smoothed', 'total_vaccinations_per_hundred',\n",
    "       'people_vaccinated_per_hundred', 'people_fully_vaccinated_per_hundred',\n",
    "       'population']]"
   ]
  },
  {
   "cell_type": "code",
   "execution_count": 11,
   "metadata": {},
   "outputs": [
    {
     "output_type": "execute_result",
     "data": {
      "text/plain": [
       "       total_vaccinations  people_vaccinated  people_fully_vaccinated  \\\n",
       "66823           4971651.0          3465381.0                1506247.0   \n",
       "66824           5057105.0          3514721.0                1542361.0   \n",
       "66825           5128171.0          3551250.0                1576898.0   \n",
       "66826           5181238.0          3580806.0                1600409.0   \n",
       "66827           5249184.0          3624328.0                1624833.0   \n",
       "\n",
       "       new_vaccinations  new_vaccinations_smoothed  \\\n",
       "66823           82651.0                    87462.0   \n",
       "66824           85454.0                    88264.0   \n",
       "66825           71066.0                    79866.0   \n",
       "66826           53067.0                    74214.0   \n",
       "66827           67946.0                    74139.0   \n",
       "\n",
       "       total_vaccinations_per_hundred  people_vaccinated_per_hundred  \\\n",
       "66823                           48.76                          33.99   \n",
       "66824                           49.60                          34.47   \n",
       "66825                           50.29                          34.83   \n",
       "66826                           50.81                          35.12   \n",
       "66827                           51.48                          35.54   \n",
       "\n",
       "       people_fully_vaccinated_per_hundred  population  \n",
       "66823                                14.77  10196707.0  \n",
       "66824                                15.13  10196707.0  \n",
       "66825                                15.46  10196707.0  \n",
       "66826                                15.70  10196707.0  \n",
       "66827                                15.93  10196707.0  "
      ],
      "text/html": "<div>\n<style scoped>\n    .dataframe tbody tr th:only-of-type {\n        vertical-align: middle;\n    }\n\n    .dataframe tbody tr th {\n        vertical-align: top;\n    }\n\n    .dataframe thead th {\n        text-align: right;\n    }\n</style>\n<table border=\"1\" class=\"dataframe\">\n  <thead>\n    <tr style=\"text-align: right;\">\n      <th></th>\n      <th>total_vaccinations</th>\n      <th>people_vaccinated</th>\n      <th>people_fully_vaccinated</th>\n      <th>new_vaccinations</th>\n      <th>new_vaccinations_smoothed</th>\n      <th>total_vaccinations_per_hundred</th>\n      <th>people_vaccinated_per_hundred</th>\n      <th>people_fully_vaccinated_per_hundred</th>\n      <th>population</th>\n    </tr>\n  </thead>\n  <tbody>\n    <tr>\n      <th>66823</th>\n      <td>4971651.0</td>\n      <td>3465381.0</td>\n      <td>1506247.0</td>\n      <td>82651.0</td>\n      <td>87462.0</td>\n      <td>48.76</td>\n      <td>33.99</td>\n      <td>14.77</td>\n      <td>10196707.0</td>\n    </tr>\n    <tr>\n      <th>66824</th>\n      <td>5057105.0</td>\n      <td>3514721.0</td>\n      <td>1542361.0</td>\n      <td>85454.0</td>\n      <td>88264.0</td>\n      <td>49.60</td>\n      <td>34.47</td>\n      <td>15.13</td>\n      <td>10196707.0</td>\n    </tr>\n    <tr>\n      <th>66825</th>\n      <td>5128171.0</td>\n      <td>3551250.0</td>\n      <td>1576898.0</td>\n      <td>71066.0</td>\n      <td>79866.0</td>\n      <td>50.29</td>\n      <td>34.83</td>\n      <td>15.46</td>\n      <td>10196707.0</td>\n    </tr>\n    <tr>\n      <th>66826</th>\n      <td>5181238.0</td>\n      <td>3580806.0</td>\n      <td>1600409.0</td>\n      <td>53067.0</td>\n      <td>74214.0</td>\n      <td>50.81</td>\n      <td>35.12</td>\n      <td>15.70</td>\n      <td>10196707.0</td>\n    </tr>\n    <tr>\n      <th>66827</th>\n      <td>5249184.0</td>\n      <td>3624328.0</td>\n      <td>1624833.0</td>\n      <td>67946.0</td>\n      <td>74139.0</td>\n      <td>51.48</td>\n      <td>35.54</td>\n      <td>15.93</td>\n      <td>10196707.0</td>\n    </tr>\n  </tbody>\n</table>\n</div>"
     },
     "metadata": {},
     "execution_count": 11
    }
   ],
   "source": [
    "d.tail()"
   ]
  },
  {
   "source": [
    "---"
   ],
   "cell_type": "markdown",
   "metadata": {}
  },
  {
   "cell_type": "code",
   "execution_count": 38,
   "metadata": {},
   "outputs": [
    {
     "output_type": "execute_result",
     "data": {
      "text/plain": [
       "0.15934879760691367"
      ]
     },
     "metadata": {},
     "execution_count": 38
    }
   ],
   "source": [
    "1624833/10196707.0"
   ]
  },
  {
   "cell_type": "code",
   "execution_count": 40,
   "metadata": {},
   "outputs": [
    {
     "output_type": "execute_result",
     "data": {
      "text/plain": [
       "0.3554410262058133"
      ]
     },
     "metadata": {},
     "execution_count": 40
    }
   ],
   "source": [
    "3624328.0/10196707.0"
   ]
  },
  {
   "cell_type": "code",
   "execution_count": 13,
   "metadata": {},
   "outputs": [],
   "source": [
    "import plotly.graph_objects as go\n",
    "import numpy as np"
   ]
  },
  {
   "source": [
    "rgb(31, 128, 57)  -- 1F8039  \n",
    "rgb(45, 189, 84)  -- 2DBD54  \n",
    "rgb(237, 88, 88)  -- ED5858  \n",
    "rgb(207, 169, 169) -- CFA9A9  \n",
    "\n",
    "\n",
    "#1F8039\"],[ 3,\"#2DBD54\"], [2,\"#ED5858\"],[ 1,\"#CFA9A9\"]]"
   ],
   "cell_type": "markdown",
   "metadata": {}
  },
  {
   "cell_type": "code",
   "execution_count": 101,
   "metadata": {},
   "outputs": [
    {
     "output_type": "display_data",
     "data": {
      "application/vnd.plotly.v1+json": {
       "config": {
        "plotlyServerURL": "https://plot.ly"
       },
       "data": [
        {
         "colorscale": [
          [
           0,
           "#CFA9A9"
          ],
          [
           0.33,
           "#ED5858"
          ],
          [
           0.66,
           "#2DBD54"
          ],
          [
           1,
           "#1F8039"
          ]
         ],
         "customdata": [
          [
           "at least a dose (20%)",
           "at least a dose (20%)",
           "two doses (16%)",
           "two doses (16%)",
           "remaining to vaccinate (6%)",
           "herd immunity (58%)",
           "herd immunity (58%)",
           "herd immunity (58%)",
           "herd immunity (58%)",
           "herd immunity (58%)"
          ],
          [
           "at least a dose (20%)",
           "at least a dose (20%)",
           "two doses (16%)",
           "two doses (16%)",
           "remaining to vaccinate (6%)",
           "herd immunity (58%)",
           "herd immunity (58%)",
           "herd immunity (58%)",
           "herd immunity (58%)",
           "herd immunity (58%)"
          ],
          [
           "at least a dose (20%)",
           "at least a dose (20%)",
           "two doses (16%)",
           "two doses (16%)",
           "herd immunity (58%)",
           "herd immunity (58%)",
           "herd immunity (58%)",
           "herd immunity (58%)",
           "herd immunity (58%)",
           "herd immunity (58%)"
          ],
          [
           "at least a dose (20%)",
           "at least a dose (20%)",
           "two doses (16%)",
           "two doses (16%)",
           "herd immunity (58%)",
           "herd immunity (58%)",
           "herd immunity (58%)",
           "herd immunity (58%)",
           "herd immunity (58%)",
           "herd immunity (58%)"
          ],
          [
           "at least a dose (20%)",
           "at least a dose (20%)",
           "two doses (16%)",
           "two doses (16%)",
           "herd immunity (58%)",
           "herd immunity (58%)",
           "herd immunity (58%)",
           "herd immunity (58%)",
           "herd immunity (58%)",
           "herd immunity (58%)"
          ],
          [
           "at least a dose (20%)",
           "at least a dose (20%)",
           "two doses (16%)",
           "two doses (16%)",
           "herd immunity (58%)",
           "herd immunity (58%)",
           "herd immunity (58%)",
           "herd immunity (58%)",
           "herd immunity (58%)",
           "herd immunity (58%)"
          ],
          [
           "at least a dose (20%)",
           "at least a dose (20%)",
           "two doses (16%)",
           "remaining to vaccinate (6%)",
           "herd immunity (58%)",
           "herd immunity (58%)",
           "herd immunity (58%)",
           "herd immunity (58%)",
           "herd immunity (58%)",
           "herd immunity (58%)"
          ],
          [
           "at least a dose (20%)",
           "at least a dose (20%)",
           "two doses (16%)",
           "remaining to vaccinate (6%)",
           "herd immunity (58%)",
           "herd immunity (58%)",
           "herd immunity (58%)",
           "herd immunity (58%)",
           "herd immunity (58%)",
           "herd immunity (58%)"
          ],
          [
           "at least a dose (20%)",
           "at least a dose (20%)",
           "two doses (16%)",
           "remaining to vaccinate (6%)",
           "herd immunity (58%)",
           "herd immunity (58%)",
           "herd immunity (58%)",
           "herd immunity (58%)",
           "herd immunity (58%)",
           "herd immunity (58%)"
          ],
          [
           "at least a dose (20%)",
           "at least a dose (20%)",
           "two doses (16%)",
           "remaining to vaccinate (6%)",
           "herd immunity (58%)",
           "herd immunity (58%)",
           "herd immunity (58%)",
           "herd immunity (58%)",
           "herd immunity (58%)",
           "herd immunity (58%)"
          ]
         ],
         "hovertemplate": "%{customdata}<extra></extra>",
         "showscale": false,
         "type": "heatmap",
         "x": [
          1
         ],
         "xgap": 1,
         "y": [
          1
         ],
         "ygap": 1,
         "z": [
          [
           4,
           4,
           3,
           3,
           2,
           1,
           1,
           1,
           1,
           1
          ],
          [
           4,
           4,
           3,
           3,
           2,
           1,
           1,
           1,
           1,
           1
          ],
          [
           4,
           4,
           3,
           3,
           1,
           1,
           1,
           1,
           1,
           1
          ],
          [
           4,
           4,
           3,
           3,
           1,
           1,
           1,
           1,
           1,
           1
          ],
          [
           4,
           4,
           3,
           3,
           1,
           1,
           1,
           1,
           1,
           1
          ],
          [
           4,
           4,
           3,
           3,
           1,
           1,
           1,
           1,
           1,
           1
          ],
          [
           4,
           4,
           3,
           2,
           1,
           1,
           1,
           1,
           1,
           1
          ],
          [
           4,
           4,
           3,
           2,
           1,
           1,
           1,
           1,
           1,
           1
          ],
          [
           4,
           4,
           3,
           2,
           1,
           1,
           1,
           1,
           1,
           1
          ],
          [
           4,
           4,
           3,
           2,
           1,
           1,
           1,
           1,
           1,
           1
          ]
         ]
        }
       ],
       "layout": {
        "height": 450,
        "template": {
         "data": {
          "bar": [
           {
            "error_x": {
             "color": "#2a3f5f"
            },
            "error_y": {
             "color": "#2a3f5f"
            },
            "marker": {
             "line": {
              "color": "#E5ECF6",
              "width": 0.5
             }
            },
            "type": "bar"
           }
          ],
          "barpolar": [
           {
            "marker": {
             "line": {
              "color": "#E5ECF6",
              "width": 0.5
             }
            },
            "type": "barpolar"
           }
          ],
          "carpet": [
           {
            "aaxis": {
             "endlinecolor": "#2a3f5f",
             "gridcolor": "white",
             "linecolor": "white",
             "minorgridcolor": "white",
             "startlinecolor": "#2a3f5f"
            },
            "baxis": {
             "endlinecolor": "#2a3f5f",
             "gridcolor": "white",
             "linecolor": "white",
             "minorgridcolor": "white",
             "startlinecolor": "#2a3f5f"
            },
            "type": "carpet"
           }
          ],
          "choropleth": [
           {
            "colorbar": {
             "outlinewidth": 0,
             "ticks": ""
            },
            "type": "choropleth"
           }
          ],
          "contour": [
           {
            "colorbar": {
             "outlinewidth": 0,
             "ticks": ""
            },
            "colorscale": [
             [
              0,
              "#0d0887"
             ],
             [
              0.1111111111111111,
              "#46039f"
             ],
             [
              0.2222222222222222,
              "#7201a8"
             ],
             [
              0.3333333333333333,
              "#9c179e"
             ],
             [
              0.4444444444444444,
              "#bd3786"
             ],
             [
              0.5555555555555556,
              "#d8576b"
             ],
             [
              0.6666666666666666,
              "#ed7953"
             ],
             [
              0.7777777777777778,
              "#fb9f3a"
             ],
             [
              0.8888888888888888,
              "#fdca26"
             ],
             [
              1,
              "#f0f921"
             ]
            ],
            "type": "contour"
           }
          ],
          "contourcarpet": [
           {
            "colorbar": {
             "outlinewidth": 0,
             "ticks": ""
            },
            "type": "contourcarpet"
           }
          ],
          "heatmap": [
           {
            "colorbar": {
             "outlinewidth": 0,
             "ticks": ""
            },
            "colorscale": [
             [
              0,
              "#0d0887"
             ],
             [
              0.1111111111111111,
              "#46039f"
             ],
             [
              0.2222222222222222,
              "#7201a8"
             ],
             [
              0.3333333333333333,
              "#9c179e"
             ],
             [
              0.4444444444444444,
              "#bd3786"
             ],
             [
              0.5555555555555556,
              "#d8576b"
             ],
             [
              0.6666666666666666,
              "#ed7953"
             ],
             [
              0.7777777777777778,
              "#fb9f3a"
             ],
             [
              0.8888888888888888,
              "#fdca26"
             ],
             [
              1,
              "#f0f921"
             ]
            ],
            "type": "heatmap"
           }
          ],
          "heatmapgl": [
           {
            "colorbar": {
             "outlinewidth": 0,
             "ticks": ""
            },
            "colorscale": [
             [
              0,
              "#0d0887"
             ],
             [
              0.1111111111111111,
              "#46039f"
             ],
             [
              0.2222222222222222,
              "#7201a8"
             ],
             [
              0.3333333333333333,
              "#9c179e"
             ],
             [
              0.4444444444444444,
              "#bd3786"
             ],
             [
              0.5555555555555556,
              "#d8576b"
             ],
             [
              0.6666666666666666,
              "#ed7953"
             ],
             [
              0.7777777777777778,
              "#fb9f3a"
             ],
             [
              0.8888888888888888,
              "#fdca26"
             ],
             [
              1,
              "#f0f921"
             ]
            ],
            "type": "heatmapgl"
           }
          ],
          "histogram": [
           {
            "marker": {
             "colorbar": {
              "outlinewidth": 0,
              "ticks": ""
             }
            },
            "type": "histogram"
           }
          ],
          "histogram2d": [
           {
            "colorbar": {
             "outlinewidth": 0,
             "ticks": ""
            },
            "colorscale": [
             [
              0,
              "#0d0887"
             ],
             [
              0.1111111111111111,
              "#46039f"
             ],
             [
              0.2222222222222222,
              "#7201a8"
             ],
             [
              0.3333333333333333,
              "#9c179e"
             ],
             [
              0.4444444444444444,
              "#bd3786"
             ],
             [
              0.5555555555555556,
              "#d8576b"
             ],
             [
              0.6666666666666666,
              "#ed7953"
             ],
             [
              0.7777777777777778,
              "#fb9f3a"
             ],
             [
              0.8888888888888888,
              "#fdca26"
             ],
             [
              1,
              "#f0f921"
             ]
            ],
            "type": "histogram2d"
           }
          ],
          "histogram2dcontour": [
           {
            "colorbar": {
             "outlinewidth": 0,
             "ticks": ""
            },
            "colorscale": [
             [
              0,
              "#0d0887"
             ],
             [
              0.1111111111111111,
              "#46039f"
             ],
             [
              0.2222222222222222,
              "#7201a8"
             ],
             [
              0.3333333333333333,
              "#9c179e"
             ],
             [
              0.4444444444444444,
              "#bd3786"
             ],
             [
              0.5555555555555556,
              "#d8576b"
             ],
             [
              0.6666666666666666,
              "#ed7953"
             ],
             [
              0.7777777777777778,
              "#fb9f3a"
             ],
             [
              0.8888888888888888,
              "#fdca26"
             ],
             [
              1,
              "#f0f921"
             ]
            ],
            "type": "histogram2dcontour"
           }
          ],
          "mesh3d": [
           {
            "colorbar": {
             "outlinewidth": 0,
             "ticks": ""
            },
            "type": "mesh3d"
           }
          ],
          "parcoords": [
           {
            "line": {
             "colorbar": {
              "outlinewidth": 0,
              "ticks": ""
             }
            },
            "type": "parcoords"
           }
          ],
          "pie": [
           {
            "automargin": true,
            "type": "pie"
           }
          ],
          "scatter": [
           {
            "marker": {
             "colorbar": {
              "outlinewidth": 0,
              "ticks": ""
             }
            },
            "type": "scatter"
           }
          ],
          "scatter3d": [
           {
            "line": {
             "colorbar": {
              "outlinewidth": 0,
              "ticks": ""
             }
            },
            "marker": {
             "colorbar": {
              "outlinewidth": 0,
              "ticks": ""
             }
            },
            "type": "scatter3d"
           }
          ],
          "scattercarpet": [
           {
            "marker": {
             "colorbar": {
              "outlinewidth": 0,
              "ticks": ""
             }
            },
            "type": "scattercarpet"
           }
          ],
          "scattergeo": [
           {
            "marker": {
             "colorbar": {
              "outlinewidth": 0,
              "ticks": ""
             }
            },
            "type": "scattergeo"
           }
          ],
          "scattergl": [
           {
            "marker": {
             "colorbar": {
              "outlinewidth": 0,
              "ticks": ""
             }
            },
            "type": "scattergl"
           }
          ],
          "scattermapbox": [
           {
            "marker": {
             "colorbar": {
              "outlinewidth": 0,
              "ticks": ""
             }
            },
            "type": "scattermapbox"
           }
          ],
          "scatterpolar": [
           {
            "marker": {
             "colorbar": {
              "outlinewidth": 0,
              "ticks": ""
             }
            },
            "type": "scatterpolar"
           }
          ],
          "scatterpolargl": [
           {
            "marker": {
             "colorbar": {
              "outlinewidth": 0,
              "ticks": ""
             }
            },
            "type": "scatterpolargl"
           }
          ],
          "scatterternary": [
           {
            "marker": {
             "colorbar": {
              "outlinewidth": 0,
              "ticks": ""
             }
            },
            "type": "scatterternary"
           }
          ],
          "surface": [
           {
            "colorbar": {
             "outlinewidth": 0,
             "ticks": ""
            },
            "colorscale": [
             [
              0,
              "#0d0887"
             ],
             [
              0.1111111111111111,
              "#46039f"
             ],
             [
              0.2222222222222222,
              "#7201a8"
             ],
             [
              0.3333333333333333,
              "#9c179e"
             ],
             [
              0.4444444444444444,
              "#bd3786"
             ],
             [
              0.5555555555555556,
              "#d8576b"
             ],
             [
              0.6666666666666666,
              "#ed7953"
             ],
             [
              0.7777777777777778,
              "#fb9f3a"
             ],
             [
              0.8888888888888888,
              "#fdca26"
             ],
             [
              1,
              "#f0f921"
             ]
            ],
            "type": "surface"
           }
          ],
          "table": [
           {
            "cells": {
             "fill": {
              "color": "#EBF0F8"
             },
             "line": {
              "color": "white"
             }
            },
            "header": {
             "fill": {
              "color": "#C8D4E3"
             },
             "line": {
              "color": "white"
             }
            },
            "type": "table"
           }
          ]
         },
         "layout": {
          "annotationdefaults": {
           "arrowcolor": "#2a3f5f",
           "arrowhead": 0,
           "arrowwidth": 1
          },
          "autotypenumbers": "strict",
          "coloraxis": {
           "colorbar": {
            "outlinewidth": 0,
            "ticks": ""
           }
          },
          "colorscale": {
           "diverging": [
            [
             0,
             "#8e0152"
            ],
            [
             0.1,
             "#c51b7d"
            ],
            [
             0.2,
             "#de77ae"
            ],
            [
             0.3,
             "#f1b6da"
            ],
            [
             0.4,
             "#fde0ef"
            ],
            [
             0.5,
             "#f7f7f7"
            ],
            [
             0.6,
             "#e6f5d0"
            ],
            [
             0.7,
             "#b8e186"
            ],
            [
             0.8,
             "#7fbc41"
            ],
            [
             0.9,
             "#4d9221"
            ],
            [
             1,
             "#276419"
            ]
           ],
           "sequential": [
            [
             0,
             "#0d0887"
            ],
            [
             0.1111111111111111,
             "#46039f"
            ],
            [
             0.2222222222222222,
             "#7201a8"
            ],
            [
             0.3333333333333333,
             "#9c179e"
            ],
            [
             0.4444444444444444,
             "#bd3786"
            ],
            [
             0.5555555555555556,
             "#d8576b"
            ],
            [
             0.6666666666666666,
             "#ed7953"
            ],
            [
             0.7777777777777778,
             "#fb9f3a"
            ],
            [
             0.8888888888888888,
             "#fdca26"
            ],
            [
             1,
             "#f0f921"
            ]
           ],
           "sequentialminus": [
            [
             0,
             "#0d0887"
            ],
            [
             0.1111111111111111,
             "#46039f"
            ],
            [
             0.2222222222222222,
             "#7201a8"
            ],
            [
             0.3333333333333333,
             "#9c179e"
            ],
            [
             0.4444444444444444,
             "#bd3786"
            ],
            [
             0.5555555555555556,
             "#d8576b"
            ],
            [
             0.6666666666666666,
             "#ed7953"
            ],
            [
             0.7777777777777778,
             "#fb9f3a"
            ],
            [
             0.8888888888888888,
             "#fdca26"
            ],
            [
             1,
             "#f0f921"
            ]
           ]
          },
          "colorway": [
           "#636efa",
           "#EF553B",
           "#00cc96",
           "#ab63fa",
           "#FFA15A",
           "#19d3f3",
           "#FF6692",
           "#B6E880",
           "#FF97FF",
           "#FECB52"
          ],
          "font": {
           "color": "#2a3f5f"
          },
          "geo": {
           "bgcolor": "white",
           "lakecolor": "white",
           "landcolor": "#E5ECF6",
           "showlakes": true,
           "showland": true,
           "subunitcolor": "white"
          },
          "hoverlabel": {
           "align": "left"
          },
          "hovermode": "closest",
          "mapbox": {
           "style": "light"
          },
          "paper_bgcolor": "white",
          "plot_bgcolor": "#E5ECF6",
          "polar": {
           "angularaxis": {
            "gridcolor": "white",
            "linecolor": "white",
            "ticks": ""
           },
           "bgcolor": "#E5ECF6",
           "radialaxis": {
            "gridcolor": "white",
            "linecolor": "white",
            "ticks": ""
           }
          },
          "scene": {
           "xaxis": {
            "backgroundcolor": "#E5ECF6",
            "gridcolor": "white",
            "gridwidth": 2,
            "linecolor": "white",
            "showbackground": true,
            "ticks": "",
            "zerolinecolor": "white"
           },
           "yaxis": {
            "backgroundcolor": "#E5ECF6",
            "gridcolor": "white",
            "gridwidth": 2,
            "linecolor": "white",
            "showbackground": true,
            "ticks": "",
            "zerolinecolor": "white"
           },
           "zaxis": {
            "backgroundcolor": "#E5ECF6",
            "gridcolor": "white",
            "gridwidth": 2,
            "linecolor": "white",
            "showbackground": true,
            "ticks": "",
            "zerolinecolor": "white"
           }
          },
          "shapedefaults": {
           "line": {
            "color": "#2a3f5f"
           }
          },
          "ternary": {
           "aaxis": {
            "gridcolor": "white",
            "linecolor": "white",
            "ticks": ""
           },
           "baxis": {
            "gridcolor": "white",
            "linecolor": "white",
            "ticks": ""
           },
           "bgcolor": "#E5ECF6",
           "caxis": {
            "gridcolor": "white",
            "linecolor": "white",
            "ticks": ""
           }
          },
          "title": {
           "x": 0.05
          },
          "xaxis": {
           "automargin": true,
           "gridcolor": "white",
           "linecolor": "white",
           "ticks": "",
           "title": {
            "standoff": 15
           },
           "zerolinecolor": "white",
           "zerolinewidth": 2
          },
          "yaxis": {
           "automargin": true,
           "gridcolor": "white",
           "linecolor": "white",
           "ticks": "",
           "title": {
            "standoff": 15
           },
           "zerolinecolor": "white",
           "zerolinewidth": 2
          }
         }
        },
        "width": 600,
        "yaxis": {
         "autorange": "reversed"
        }
       }
      }
     },
     "metadata": {}
    }
   ],
   "source": [
    "z = np.ones((10, 10), dtype=int)\n",
    "\n",
    "fully_vax = 16 # 3\n",
    "one_dose = 36 - fully_vax # 4\n",
    "herd_immun = 58 # 1\n",
    "remaining = 100 - (herd_immun+fully_vax+one_dose) # 2\n",
    "\n",
    "fv = fully_vax\n",
    "od = one_dose\n",
    "rm = remaining\n",
    "# because Heatmap colorscale logic sucks.\n",
    "colorscale = [[0, \"#CFA9A9\"],\n",
    "              [0.33, \"#ED5858\"],\n",
    "              [0.66, \"#2DBD54\"],\n",
    "              [1, \"#1F8039\"]]\n",
    "\n",
    "customdata = []\n",
    "for x in range(len(z[0,:])):\n",
    "    for y in range(len(z[:,0])):\n",
    "        if od > 0: \n",
    "            z[y,x] = 4\n",
    "            od -= 1\n",
    "            customdata.append(f\"at least a dose ({one_dose}%)\")\n",
    "        elif fv > 0:\n",
    "            z[y,x] = 3\n",
    "            fv -= 1\n",
    "            customdata.append(f\"two doses ({fully_vax}%)\")\n",
    "        elif rm>0:\n",
    "            z[y,x] = 2\n",
    "            rm -= 1\n",
    "            customdata.append(f\"remaining to vaccinate ({remaining}%)\")\n",
    "        else:\n",
    "            customdata.append(f\"herd immunity ({herd_immun}%)\")\n",
    "customdata = np.reshape(customdata, newshape=(10,10)).T\n",
    "    \n",
    "\n",
    "fig = go.Figure(go.Heatmap(x=[1], y = [1], z=z,\n",
    "                           customdata=customdata, \n",
    "                           xgap=1, ygap=1,\n",
    "                           colorscale=colorscale, \n",
    "                           showscale=False,\n",
    "                           hovertemplate=\"%{customdata}<extra></extra>\"))\n",
    "fig.update_layout(width=600, height=450, yaxis_autorange='reversed')"
   ]
  },
  {
   "cell_type": "code",
   "execution_count": 59,
   "metadata": {},
   "outputs": [
    {
     "output_type": "execute_result",
     "data": {
      "text/plain": [
       "array([[2, 2, 2],\n",
       "       [2, 2, 2],\n",
       "       [2, 2, 2]])"
      ]
     },
     "metadata": {},
     "execution_count": 59
    }
   ],
   "source": [
    "z"
   ]
  },
  {
   "cell_type": "code",
   "execution_count": 73,
   "metadata": {},
   "outputs": [
    {
     "output_type": "execute_result",
     "data": {
      "text/plain": [
       "6"
      ]
     },
     "metadata": {},
     "execution_count": 73
    }
   ],
   "source": [
    "fully_vax = 16 # 3\n",
    "one_dose = 36 - fully_vax # 4\n",
    "herd_immun = 58 # 1\n",
    "remaining = 100 - (herd_immun+fully_vax+one_dose) # 2\n",
    "remaining"
   ]
  },
  {
   "cell_type": "code",
   "execution_count": 77,
   "metadata": {},
   "outputs": [
    {
     "output_type": "execute_result",
     "data": {
      "text/plain": [
       "0.36"
      ]
     },
     "metadata": {},
     "execution_count": 77
    }
   ],
   "source": [
    "36/100"
   ]
  }
 ]
}